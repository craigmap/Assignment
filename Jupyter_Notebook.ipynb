{
  "metadata": {
    "kernelspec": {
      "name": "python",
      "display_name": "Pyolite",
      "language": "python"
    },
    "language_info": {
      "codemirror_mode": {
        "name": "python",
        "version": 3
      },
      "file_extension": ".py",
      "mimetype": "text/x-python",
      "name": "python",
      "nbconvert_exporter": "python",
      "pygments_lexer": "ipython3",
      "version": "3.8"
    }
  },
  "nbformat_minor": 4,
  "nbformat": 4,
  "cells": [
    {
      "cell_type": "markdown",
      "source": "<center>\n    <img src=\"https://s3-api.us-geo.objectstorage.softlayer.net/cf-courses-data/CognitiveClass/Logos/organization_logo/organization_logo.png\" width=\"300\" alt=\"cognitiveclass.ai logo\"  />\n</center>\n",
      "metadata": {}
    },
    {
      "cell_type": "markdown",
      "source": "# My JupyterNotebook on IBM Watson Studio",
      "metadata": {
        "tags": []
      }
    },
    {
      "cell_type": "markdown",
      "source": "**Craig Maparura**\n\nI want to be a Data Scientist in the Agricultural field",
      "metadata": {}
    },
    {
      "cell_type": "markdown",
      "source": "*I want to be a Data Scientist because i want to change the way agriculture is practised by small and upcoming farmers of community and African communities at large, intoducing better ways to increase output on a small scale.*",
      "metadata": {}
    },
    {
      "cell_type": "markdown",
      "source": "### My code assigns a value for x and y and prints the output of both variables using the multiplication operator",
      "metadata": {}
    },
    {
      "cell_type": "code",
      "source": "x=2\ny=3\nprint(x*y)",
      "metadata": {
        "trusted": true
      },
      "execution_count": 2,
      "outputs": [
        {
          "name": "stdout",
          "text": "6\n",
          "output_type": "stream"
        }
      ]
    },
    {
      "cell_type": "markdown",
      "source": "1. What is Data Science?\n2. What makes someone a Data Scientist?\n+ Data science is what Data scientist do or it is just the study of data.\n+ Data Scientists are curious people who ask questions to clarify the business need, use tools to analyse data and then becomes a storyteller to communicate the results to the project stakeholders.\n*************\n> A Data Scientist should be curious, argumentative and judgemental ~~scratch this, must know mathematics~~.",
      "metadata": {}
    }
  ]
}